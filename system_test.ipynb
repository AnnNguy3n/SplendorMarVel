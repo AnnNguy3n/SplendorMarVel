{
 "cells": [
  {
   "cell_type": "code",
   "execution_count": 1,
   "metadata": {},
   "outputs": [],
   "source": [
    "from env import *\n",
    "from env import __AGENT_SIZE__"
   ]
  },
  {
   "cell_type": "code",
   "execution_count": 2,
   "metadata": {},
   "outputs": [],
   "source": [
    "perData = List()\n",
    "perData.append(np.array([[0.]]))\n",
    "\n",
    "listAgent = [randomBot, randomBot, randomBot, randomBot]\n",
    "\n",
    "list_Env = []\n",
    "list_validActions = []\n",
    "list_Action = []\n",
    "\n",
    "env, lv1, lv2, lv3 = initEnv()\n",
    "list_Env.append(visualizeEnv(env, lv1, lv2, lv3))\n",
    "\n",
    "tempData = []\n",
    "for _ in range(__AGENT_SIZE__):\n",
    "    dataOnePlayer = List()\n",
    "    dataOnePlayer.append(np.array([[0.]]))\n",
    "    tempData.append(dataOnePlayer)\n",
    "\n",
    "winner = -1\n",
    "while env[90] < 400:\n",
    "    pIdx = env[90] % 4\n",
    "    list_validActions.append(np.where(getValidActions(getAgentState(env, lv1, lv2, lv3))==1)[0])\n",
    "    action, tempData[pIdx], perData = listAgent[pIdx](getAgentState(env, lv1, lv2, lv3), tempData[pIdx], perData)\n",
    "    list_Action.append(action)\n",
    "    stepEnv(action, env, lv1, lv2, lv3)\n",
    "    list_Env.append(visualizeEnv(env, lv1, lv2, lv3))\n",
    "    winner = checkEnded(env)\n",
    "    if winner != -1:\n",
    "        break\n",
    "\n",
    "for pIdx in range(4):\n",
    "    env[90] = pIdx\n",
    "    action, tempData[pIdx], perData = listAgent[pIdx](getAgentState(env, lv1, lv2, lv3), tempData[pIdx], perData)"
   ]
  },
  {
   "cell_type": "code",
   "execution_count": 313,
   "metadata": {},
   "outputs": [
    {
     "data": {
      "text/plain": [
       "383"
      ]
     },
     "execution_count": 313,
     "metadata": {},
     "output_type": "execute_result"
    }
   ],
   "source": [
    "i "
   ]
  },
  {
   "cell_type": "code",
   "execution_count": 318,
   "metadata": {},
   "outputs": [
    {
     "name": "stdout",
     "output_type": "stream",
     "text": [
      "BoardGems [2 0 1 0 2 4]\n",
      "Noble [ 0  2 -1  6]\n",
      "Cards [-1 -1 -1 -1 48 41 64 60 71 76 74 72]\n",
      "Player_0 {'Gems': array([4, 2, 2, 2, 0, 0]), 'PerGems': array([4, 2, 2, 2, 5, 0]), 'Score': 8, 'AvengerScore': 4, 'HidingCards': array([81, -1, 79])}\n",
      "Player_1 {'Gems': array([1, 2, 0, 4, 3, 0]), 'PerGems': array([1, 2, 2, 3, 2, 0]), 'Score': 1, 'AvengerScore': 4, 'HidingCards': array([68, 55, 51])}\n",
      "Player_2 {'Gems': array([0, 2, 2, 0, 2, 0]), 'PerGems': array([1, 1, 6, 3, 1, 0]), 'Score': 10, 'AvengerScore': 1, 'HidingCards': array([-1, 89, 49])}\n",
      "Player_3 {'Gems': array([0, 1, 2, 1, 0, 1]), 'PerGems': array([3, 5, 1, 4, 2, 1]), 'Score': 16, 'AvengerScore': 7, 'HidingCards': array([82, -1, 53])}\n",
      "Turn 128\n",
      "Phase 0\n",
      "TakenStocks [0 0 0 0 0]\n",
      "NumBoughtCards [15 10 12 15]\n",
      "EndGame 0\n",
      "OwnAvenger 3\n",
      "HideCardsLv1Order (array([37,  3,  7, 39, 33, 30, 26,  4, 15, 23, 18,  6, 12, 16, 28, 13, 29,\n",
      "       25, 31, 34,  8, 17,  5,  0, 24, 14,  2, 32, 19, 20, 38, 10,  9, 36,\n",
      "       22, 35, 21, 11, 27,  1]), 40)\n",
      "HideCardsLv2Order (array([68, 49, 51, 66, 48, 69, 40, 42, 55, 47, 57, 46, 64, 59, 63, 65, 53,\n",
      "       41, 45, 60, 62, 56, 44, 61, 67, 50, 54, 58, 52, 43]), 20)\n",
      "HideCardsLv3Order (array([81, 76, 89, 72, 79, 82, 71, 87, 74, 77, 80, 84, 83, 70, 88, 86, 85,\n",
      "       78, 73, 75]), 9)\n"
     ]
    }
   ],
   "source": [
    "i = 383\n",
    "# print(list_validActions[i])\n",
    "# print(list_Action[i])\n",
    "for key, value in list_Env[i].items():\n",
    "    print(key, value)\n"
   ]
  },
  {
   "cell_type": "code",
   "execution_count": 200,
   "metadata": {},
   "outputs": [
    {
     "name": "stderr",
     "output_type": "stream",
     "text": [
      "c:\\Users\\nguye\\AppData\\Local\\Programs\\Python\\Python310\\lib\\site-packages\\numpy\\lib\\npyio.py:518: VisibleDeprecationWarning: Creating an ndarray from ragged nested sequences (which is a list-or-tuple of lists-or-tuples-or ndarrays with different lengths or shapes) is deprecated. If you meant to do this, you must specify 'dtype=object' when creating the ndarray.\n",
      "  arr = np.asanyarray(arr)\n"
     ]
    }
   ],
   "source": [
    "np.save('test.npy', (list_Env, list_Action, list_validActions))"
   ]
  },
  {
   "cell_type": "code",
   "execution_count": 2,
   "metadata": {},
   "outputs": [],
   "source": [
    "import numpy as np\n",
    "a = np.load('test.npy', allow_pickle=True)"
   ]
  },
  {
   "cell_type": "code",
   "execution_count": 4,
   "metadata": {},
   "outputs": [],
   "source": [
    "list_Env, list_Action, list_validActions = a[0], a[1], a[2]"
   ]
  }
 ],
 "metadata": {
  "kernelspec": {
   "display_name": "Python 3.10.4 64-bit",
   "language": "python",
   "name": "python3"
  },
  "language_info": {
   "codemirror_mode": {
    "name": "ipython",
    "version": 3
   },
   "file_extension": ".py",
   "mimetype": "text/x-python",
   "name": "python",
   "nbconvert_exporter": "python",
   "pygments_lexer": "ipython3",
   "version": "3.10.4"
  },
  "orig_nbformat": 4,
  "vscode": {
   "interpreter": {
    "hash": "3bc1a11519d29b3ed6f08646f3ece60640217e649724c6bcfd38e1173c1a1bce"
   }
  }
 },
 "nbformat": 4,
 "nbformat_minor": 2
}
